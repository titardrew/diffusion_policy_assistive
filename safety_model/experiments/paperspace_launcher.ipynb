{
 "cells": [
  {
   "cell_type": "code",
   "execution_count": 2,
   "id": "fa000d42-7a15-4da4-b4d7-2485c9a80f68",
   "metadata": {
    "execution": {
     "iopub.execute_input": "2024-07-01T08:11:10.194138Z",
     "iopub.status.busy": "2024-07-01T08:11:10.193309Z",
     "iopub.status.idle": "2024-07-01T08:11:10.200495Z",
     "shell.execute_reply": "2024-07-01T08:11:10.198296Z",
     "shell.execute_reply.started": "2024-07-01T08:11:10.194105Z"
    }
   },
   "outputs": [],
   "source": [
    "import sys\n",
    "import importlib\n",
    "\n",
    "from pathlib import Path\n",
    "\n",
    "# FOR MAMBA/CONDA ENV: \n",
    "#\n",
    "# python -m ipykernel install --user --name robodiff-assisitve --display-name \"robodiff\"\n",
    "# pip install numpy==1.23.5\n",
    "# pip install protobuf==3.20\n",
    "#\n",
    "# (for some reason conda kernel is not seen by paperspace notebooks by default)"
   ]
  },
  {
   "cell_type": "code",
   "execution_count": 3,
   "id": "3cd2e806-c14c-4f81-af4c-1eed0a69455e",
   "metadata": {
    "execution": {
     "iopub.execute_input": "2024-07-01T08:11:11.083617Z",
     "iopub.status.busy": "2024-07-01T08:11:11.082063Z",
     "iopub.status.idle": "2024-07-01T08:11:11.091149Z",
     "shell.execute_reply": "2024-07-01T08:11:11.089161Z",
     "shell.execute_reply.started": "2024-07-01T08:11:11.083542Z"
    }
   },
   "outputs": [],
   "source": [
    "sys.path.append(str(Path(\".\").absolute().parent.parent))"
   ]
  },
  {
   "cell_type": "code",
   "execution_count": 4,
   "id": "41ca46dc-f9ce-418d-b334-56e8bb040572",
   "metadata": {
    "execution": {
     "iopub.execute_input": "2024-07-01T08:11:13.037775Z",
     "iopub.status.busy": "2024-07-01T08:11:13.037188Z",
     "iopub.status.idle": "2024-07-01T08:11:13.047205Z",
     "shell.execute_reply": "2024-07-01T08:11:13.044129Z",
     "shell.execute_reply.started": "2024-07-01T08:11:13.037690Z"
    }
   },
   "outputs": [],
   "source": [
    "def run_experiment(experiment_name, start_from=0):\n",
    "    mod = importlib.import_module(f\"safety_model.experiments.{experiment_name}\")\n",
    "    run = getattr(mod, \"run\")\n",
    "    run(start_from)"
   ]
  },
  {
   "cell_type": "code",
   "execution_count": null,
   "id": "01a66c72-6b77-46be-a0f4-c2dd19bedd1e",
   "metadata": {
    "execution": {
     "iopub.execute_input": "2024-07-01T08:38:47.338956Z",
     "iopub.status.busy": "2024-07-01T08:38:47.338384Z"
    }
   },
   "outputs": [
    {
     "name": "stderr",
     "output_type": "stream",
     "text": [
      "\u001b[34m\u001b[1mwandb\u001b[0m: Currently logged in as: \u001b[33mtitarenkoan\u001b[0m (\u001b[33maty8\u001b[0m). Use \u001b[1m`wandb login --relogin`\u001b[0m to force relogin\n"
     ]
    },
    {
     "name": "stdout",
     "output_type": "stream",
     "text": [
      "Checking catalog validity.\n",
      "feeding_teleop_250 (Feeding) - OK\n",
      "feeding_teleop_100 (Feeding) - OK\n",
      "feeding_teleop_50 (Feeding) - OK\n",
      "arm_manipulation_ppo (ArmManipulation) - OK\n",
      "bed_bathing_ppo (BedBathing) - OK\n",
      "drinking_ppo (Drinking) - OK\n",
      "scratch_itch_ppo (ScratchItch) - OK\n",
      "[0/7] Running on feeding_teleop_250\n",
      "loading data took 0.151 seconds\n",
      "extract train dfs and labels took 0.420 seconds\n",
      "extract test dfs and labels took 0.427 seconds\n",
      "update meta data took 0.001 seconds\n"
     ]
    },
    {
     "data": {
      "text/html": [
       "wandb version 0.17.3 is available!  To upgrade, please run:\n",
       " $ pip install wandb --upgrade"
      ],
      "text/plain": [
       "<IPython.core.display.HTML object>"
      ]
     },
     "metadata": {},
     "output_type": "display_data"
    },
    {
     "data": {
      "text/html": [
       "Tracking run with wandb version 0.13.3"
      ],
      "text/plain": [
       "<IPython.core.display.HTML object>"
      ]
     },
     "metadata": {},
     "output_type": "display_data"
    },
    {
     "data": {
      "text/html": [
       "Run data is saved locally in <code>/notebooks/diffusion_policy_assistive/safety_model/experiments/wandb/run-20240701_083854-bqz8zmyo</code>"
      ],
      "text/plain": [
       "<IPython.core.display.HTML object>"
      ]
     },
     "metadata": {},
     "output_type": "display_data"
    },
    {
     "data": {
      "text/html": [
       "Syncing run <strong><a href=\"https://wandb.ai/aty8/feeding_teleop_250/runs/bqz8zmyo\" target=\"_blank\">prediction_ensemble_mlp_i20_g5_o3</a></strong> to <a href=\"https://wandb.ai/aty8/feeding_teleop_250\" target=\"_blank\">Weights & Biases</a> (<a href=\"https://wandb.me/run\" target=\"_blank\">docs</a>)<br/>"
      ],
      "text/plain": [
       "<IPython.core.display.HTML object>"
      ]
     },
     "metadata": {},
     "output_type": "display_data"
    },
    {
     "name": "stderr",
     "output_type": "stream",
     "text": [
      "/root/miniforge3/envs/robodiff-assistive/lib/python3.9/site-packages/torch/nn/functional.py:1960: UserWarning: nn.functional.sigmoid is deprecated. Use torch.sigmoid instead.\n",
      "  warnings.warn(\"nn.functional.sigmoid is deprecated. Use torch.sigmoid instead.\")\n"
     ]
    },
    {
     "name": "stdout",
     "output_type": "stream",
     "text": [
      "[ VAL ] Epoch: 0, Metrics: [total_loss: 24.309761, nll: 337.520122, mse: 212.381106, ensemble_mse: 212.380789, ensemble_nll: 337.519531]\n"
     ]
    },
    {
     "name": "stderr",
     "output_type": "stream",
     "text": [
      "190it [00:14, 15.47it/s]"
     ]
    }
   ],
   "source": [
    "experiment_name = \"prediction_ensemble_mlp_i20_g5_o3\"\n",
    "start_from = 0\n",
    "\n",
    "run_experiment(experiment_name, start_from)"
   ]
  },
  {
   "cell_type": "code",
   "execution_count": null,
   "id": "a667659e-6792-497d-99fc-db37a9c59159",
   "metadata": {},
   "outputs": [],
   "source": []
  }
 ],
 "metadata": {
  "kernelspec": {
   "display_name": "robodiff",
   "language": "python",
   "name": "robodiff-assisitve"
  },
  "language_info": {
   "codemirror_mode": {
    "name": "ipython",
    "version": 3
   },
   "file_extension": ".py",
   "mimetype": "text/x-python",
   "name": "python",
   "nbconvert_exporter": "python",
   "pygments_lexer": "ipython3",
   "version": "3.9.15"
  }
 },
 "nbformat": 4,
 "nbformat_minor": 5
}
