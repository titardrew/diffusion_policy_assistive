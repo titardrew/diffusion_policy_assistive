{
 "cells": [
  {
   "cell_type": "code",
   "execution_count": 21,
   "id": "fa000d42-7a15-4da4-b4d7-2485c9a80f68",
   "metadata": {
    "execution": {
     "iopub.execute_input": "2024-07-01T07:54:57.679610Z",
     "iopub.status.busy": "2024-07-01T07:54:57.679131Z",
     "iopub.status.idle": "2024-07-01T07:54:57.685287Z",
     "shell.execute_reply": "2024-07-01T07:54:57.684150Z",
     "shell.execute_reply.started": "2024-07-01T07:54:57.679576Z"
    }
   },
   "outputs": [],
   "source": [
    "import sys\n",
    "import importlib\n",
    "\n",
    "from pathlib import Path\n",
    "\n",
    "# FOR MAMBA/CONDA ENV: \n",
    "#\n",
    "# python -m ipykernel install --user --name robodiff-assisitve --display-name \"robodiff\"\n",
    "#\n",
    "# (for some reason conda kernel is not seen by paperspace notebooks by default)"
   ]
  },
  {
   "cell_type": "code",
   "execution_count": 22,
   "id": "3cd2e806-c14c-4f81-af4c-1eed0a69455e",
   "metadata": {
    "execution": {
     "iopub.execute_input": "2024-07-01T07:54:58.739072Z",
     "iopub.status.busy": "2024-07-01T07:54:58.737897Z",
     "iopub.status.idle": "2024-07-01T07:54:58.745975Z",
     "shell.execute_reply": "2024-07-01T07:54:58.744699Z",
     "shell.execute_reply.started": "2024-07-01T07:54:58.739013Z"
    }
   },
   "outputs": [],
   "source": [
    "sys.path.append(str(Path(\".\").absolute().parent.parent))"
   ]
  },
  {
   "cell_type": "code",
   "execution_count": 23,
   "id": "41ca46dc-f9ce-418d-b334-56e8bb040572",
   "metadata": {
    "execution": {
     "iopub.execute_input": "2024-07-01T07:54:59.543910Z",
     "iopub.status.busy": "2024-07-01T07:54:59.542999Z",
     "iopub.status.idle": "2024-07-01T07:54:59.551846Z",
     "shell.execute_reply": "2024-07-01T07:54:59.550380Z",
     "shell.execute_reply.started": "2024-07-01T07:54:59.543876Z"
    }
   },
   "outputs": [],
   "source": [
    "def run_experiment(experiment_name, start_from=0):\n",
    "    mod = importlib.import_module(f\"safety_model.experiments.{experiment_name}\")\n",
    "    run = getattr(mod, \"run\")\n",
    "    run(start_from)"
   ]
  },
  {
   "cell_type": "code",
   "execution_count": 24,
   "id": "01a66c72-6b77-46be-a0f4-c2dd19bedd1e",
   "metadata": {
    "execution": {
     "iopub.execute_input": "2024-07-01T07:55:03.216719Z",
     "iopub.status.busy": "2024-07-01T07:55:03.215216Z",
     "iopub.status.idle": "2024-07-01T07:55:03.222246Z",
     "shell.execute_reply": "2024-07-01T07:55:03.220933Z",
     "shell.execute_reply.started": "2024-07-01T07:55:03.216658Z"
    }
   },
   "outputs": [],
   "source": [
    "experiment_name = \"prediction_ensemble_mlp_i20_g5_o3\"\n",
    "start_from = 0\n",
    "\n",
    "run_experiment(experiment_name, start_from)"
   ]
  }
 ],
 "metadata": {
  "kernelspec": {
   "display_name": "robodiff",
   "language": "python",
   "name": "robodiff-assisitve"
  },
  "language_info": {
   "codemirror_mode": {
    "name": "ipython",
    "version": 3
   },
   "file_extension": ".py",
   "mimetype": "text/x-python",
   "name": "python",
   "nbconvert_exporter": "python",
   "pygments_lexer": "ipython3",
   "version": "3.9.15"
  }
 },
 "nbformat": 4,
 "nbformat_minor": 5
}
