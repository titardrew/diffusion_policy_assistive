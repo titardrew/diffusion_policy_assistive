{
 "cells": [
  {
   "cell_type": "code",
   "execution_count": 2,
   "id": "fa000d42-7a15-4da4-b4d7-2485c9a80f68",
   "metadata": {
    "execution": {
     "iopub.execute_input": "2024-07-01T08:11:10.194138Z",
     "iopub.status.busy": "2024-07-01T08:11:10.193309Z",
     "iopub.status.idle": "2024-07-01T08:11:10.200495Z",
     "shell.execute_reply": "2024-07-01T08:11:10.198296Z",
     "shell.execute_reply.started": "2024-07-01T08:11:10.194105Z"
    }
   },
   "outputs": [],
   "source": [
    "import sys\n",
    "import importlib\n",
    "\n",
    "from pathlib import Path\n",
    "\n",
    "# FOR MAMBA/CONDA ENV: \n",
    "#\n",
    "# python -m ipykernel install --user --name robodiff-assisitve --display-name \"robodiff\"\n",
    "# pip install numpy==1.23.5\n",
    "# pip install protobuf==3.20\n",
    "#\n",
    "# (for some reason conda kernel is not seen by paperspace notebooks by default)"
   ]
  },
  {
   "cell_type": "code",
   "execution_count": 3,
   "id": "3cd2e806-c14c-4f81-af4c-1eed0a69455e",
   "metadata": {
    "execution": {
     "iopub.execute_input": "2024-07-01T08:11:11.083617Z",
     "iopub.status.busy": "2024-07-01T08:11:11.082063Z",
     "iopub.status.idle": "2024-07-01T08:11:11.091149Z",
     "shell.execute_reply": "2024-07-01T08:11:11.089161Z",
     "shell.execute_reply.started": "2024-07-01T08:11:11.083542Z"
    }
   },
   "outputs": [],
   "source": [
    "sys.path.append(str(Path(\".\").absolute().parent.parent))"
   ]
  },
  {
   "cell_type": "code",
   "execution_count": 4,
   "id": "41ca46dc-f9ce-418d-b334-56e8bb040572",
   "metadata": {
    "execution": {
     "iopub.execute_input": "2024-07-01T08:11:13.037775Z",
     "iopub.status.busy": "2024-07-01T08:11:13.037188Z",
     "iopub.status.idle": "2024-07-01T08:11:13.047205Z",
     "shell.execute_reply": "2024-07-01T08:11:13.044129Z",
     "shell.execute_reply.started": "2024-07-01T08:11:13.037690Z"
    }
   },
   "outputs": [],
   "source": [
    "def run_experiment(experiment_name, start_from=0):\n",
    "    mod = importlib.import_module(f\"safety_model.experiments.{experiment_name}\")\n",
    "    run = getattr(mod, \"run\")\n",
    "    run(start_from)"
   ]
  },
  {
   "cell_type": "code",
   "execution_count": null,
   "id": "01a66c72-6b77-46be-a0f4-c2dd19bedd1e",
   "metadata": {
    "execution": {
     "iopub.execute_input": "2024-07-01T08:38:47.338956Z",
     "iopub.status.busy": "2024-07-01T08:38:47.338384Z"
    }
   },
   "outputs": [
    {
     "name": "stderr",
     "output_type": "stream",
     "text": [
      "\u001b[34m\u001b[1mwandb\u001b[0m: Currently logged in as: \u001b[33mtitarenkoan\u001b[0m (\u001b[33maty8\u001b[0m). Use \u001b[1m`wandb login --relogin`\u001b[0m to force relogin\n"
     ]
    },
    {
     "name": "stdout",
     "output_type": "stream",
     "text": [
      "Checking catalog validity.\n",
      "feeding_teleop_250 (Feeding) - OK\n",
      "feeding_teleop_100 (Feeding) - OK\n",
      "feeding_teleop_50 (Feeding) - OK\n",
      "arm_manipulation_ppo (ArmManipulation) - OK\n",
      "bed_bathing_ppo (BedBathing) - OK\n",
      "drinking_ppo (Drinking) - OK\n",
      "scratch_itch_ppo (ScratchItch) - OK\n",
      "[0/7] Running on feeding_teleop_250\n",
      "loading data took 0.151 seconds\n",
      "extract train dfs and labels took 0.420 seconds\n",
      "extract test dfs and labels took 0.427 seconds\n",
      "update meta data took 0.001 seconds\n"
     ]
    },
    {
     "data": {
      "text/html": [
       "wandb version 0.17.3 is available!  To upgrade, please run:\n",
       " $ pip install wandb --upgrade"
      ],
      "text/plain": [
       "<IPython.core.display.HTML object>"
      ]
     },
     "metadata": {},
     "output_type": "display_data"
    },
    {
     "data": {
      "text/html": [
       "Tracking run with wandb version 0.13.3"
      ],
      "text/plain": [
       "<IPython.core.display.HTML object>"
      ]
     },
     "metadata": {},
     "output_type": "display_data"
    },
    {
     "data": {
      "text/html": [
       "Run data is saved locally in <code>/notebooks/diffusion_policy_assistive/safety_model/experiments/wandb/run-20240701_083854-bqz8zmyo</code>"
      ],
      "text/plain": [
       "<IPython.core.display.HTML object>"
      ]
     },
     "metadata": {},
     "output_type": "display_data"
    },
    {
     "data": {
      "text/html": [
       "Syncing run <strong><a href=\"https://wandb.ai/aty8/feeding_teleop_250/runs/bqz8zmyo\" target=\"_blank\">prediction_ensemble_mlp_i20_g5_o3</a></strong> to <a href=\"https://wandb.ai/aty8/feeding_teleop_250\" target=\"_blank\">Weights & Biases</a> (<a href=\"https://wandb.me/run\" target=\"_blank\">docs</a>)<br/>"
      ],
      "text/plain": [
       "<IPython.core.display.HTML object>"
      ]
     },
     "metadata": {},
     "output_type": "display_data"
    },
    {
     "name": "stderr",
     "output_type": "stream",
     "text": [
      "/root/miniforge3/envs/robodiff-assistive/lib/python3.9/site-packages/torch/nn/functional.py:1960: UserWarning: nn.functional.sigmoid is deprecated. Use torch.sigmoid instead.\n",
      "  warnings.warn(\"nn.functional.sigmoid is deprecated. Use torch.sigmoid instead.\")\n"
     ]
    },
    {
     "name": "stdout",
     "output_type": "stream",
     "text": [
      "[ VAL ] Epoch: 0, Metrics: [total_loss: 24.309761, nll: 337.520122, mse: 212.381106, ensemble_mse: 212.380789, ensemble_nll: 337.519531]\n"
     ]
    },
    {
     "name": "stderr",
     "output_type": "stream",
     "text": [
      "200it [00:15, 12.92it/s]\n"
     ]
    },
    {
     "name": "stdout",
     "output_type": "stream",
     "text": [
      "[TEST ] Epoch: 0, Metrics: [score_fpr_at_95_tpr: 0.970760, score_detection_error: 0.145000, score_auroc: 0.709216, score_aupr_in: 0.583040, score_aupr_out: 0.894235, score_30.00_fpr_at_95_tpr: 0.929825, score_30.00_detection_error: 0.137368, score_30.00_auroc: 0.645695, score_30.00_aupr_in: 0.362795, score_30.00_aupr_out: 0.898732, score_40.00_fpr_at_95_tpr: 0.941520, score_40.00_detection_error: 0.141608, score_40.00_auroc: 0.650131, score_40.00_aupr_in: 0.451317, score_40.00_aupr_out: 0.893542, score_50.00_fpr_at_95_tpr: 0.994152, score_50.00_detection_error: 0.144152, score_50.00_auroc: 0.571688, score_50.00_aupr_in: 0.359475, score_50.00_aupr_out: 0.859652, score_60.00_fpr_at_95_tpr: 0.976608, score_60.00_detection_error: 0.145000, score_60.00_auroc: 0.578141, score_60.00_aupr_in: 0.370162, score_60.00_aupr_out: 0.856865, score_70.00_fpr_at_95_tpr: 0.994152, score_70.00_detection_error: 0.145000, score_70.00_auroc: 0.598709, score_70.00_aupr_in: 0.352152, score_70.00_aupr_out: 0.858837, score_80.00_fpr_at_95_tpr: 0.994152, score_80.00_detection_error: 0.145000, score_80.00_auroc: 0.608389, score_80.00_aupr_in: 0.359854, score_80.00_aupr_out: 0.868647, score_90.00_fpr_at_95_tpr: 1.000000, score_90.00_detection_error: 0.145000, score_90.00_auroc: 0.633999, score_90.00_aupr_in: 0.388372, score_90.00_aupr_out: 0.868735, score_100.00_fpr_at_95_tpr: 1.000000, score_100.00_detection_error: 0.145000, score_100.00_auroc: 0.651139, score_100.00_aupr_in: 0.430451, score_100.00_aupr_out: 0.877228, score_110.00_fpr_at_95_tpr: 1.000000, score_110.00_detection_error: 0.145000, score_110.00_auroc: 0.661020, score_110.00_aupr_in: 0.494248, score_110.00_aupr_out: 0.875054, score_120.00_fpr_at_95_tpr: 1.000000, score_120.00_detection_error: 0.145000, score_120.00_auroc: 0.673321, score_120.00_aupr_in: 0.490931, score_120.00_aupr_out: 0.884056, score_130.00_fpr_at_95_tpr: 1.000000, score_130.00_detection_error: 0.145000, score_130.00_auroc: 0.696915, score_130.00_aupr_in: 0.529288, score_130.00_aupr_out: 0.890355, score_140.00_fpr_at_95_tpr: 1.000000, score_140.00_detection_error: 0.145000, score_140.00_auroc: 0.694697, score_140.00_aupr_in: 0.540684, score_140.00_aupr_out: 0.881628, score_150.00_fpr_at_95_tpr: 0.953216, score_150.00_detection_error: 0.145000, score_150.00_auroc: 0.718290, score_150.00_aupr_in: 0.590625, score_150.00_aupr_out: 0.895451, score_160.00_fpr_at_95_tpr: 1.000000, score_160.00_detection_error: 0.145000, score_160.00_auroc: 0.740674, score_160.00_aupr_in: 0.614834, score_160.00_aupr_out: 0.898839, score_170.00_fpr_at_95_tpr: 0.976608, score_170.00_detection_error: 0.145000, score_170.00_auroc: 0.720710, score_170.00_aupr_in: 0.596553, score_170.00_aupr_out: 0.897102, score_180.00_fpr_at_95_tpr: 0.988304, score_180.00_detection_error: 0.145000, score_180.00_auroc: 0.696713, score_180.00_aupr_in: 0.589270, score_180.00_aupr_out: 0.886304, score_190.00_fpr_at_95_tpr: 1.000000, score_190.00_detection_error: 0.145000, score_190.00_auroc: 0.686227, score_190.00_aupr_in: 0.576333, score_190.00_aupr_out: 0.885897, score_200.00_fpr_at_95_tpr: 0.970760, score_200.00_detection_error: 0.145000, score_200.00_auroc: 0.709216, score_200.00_aupr_in: 0.583040, score_200.00_aupr_out: 0.894235, total_loss: 24.104017, nll: 334.434059, mse: 210.438443, ensemble_mse: 210.438011, ensemble_nll: 334.433268]\n"
     ]
    },
    {
     "name": "stderr",
     "output_type": "stream",
     "text": [
      "/root/miniforge3/envs/robodiff-assistive/lib/python3.9/site-packages/torch/nn/functional.py:1960: UserWarning: nn.functional.sigmoid is deprecated. Use torch.sigmoid instead.\n",
      "  warnings.warn(\"nn.functional.sigmoid is deprecated. Use torch.sigmoid instead.\")\n"
     ]
    },
    {
     "name": "stdout",
     "output_type": "stream",
     "text": [
      "[TRAIN] Epoch: 1, Metrics: [loss: -5.971247]\n",
      "[ VAL ] Epoch: 1, Metrics: [total_loss: -11.882185, nll: 40.507410, mse: 13.435220, ensemble_mse: 11.592127, ensemble_nll: 31.513604]\n",
      "[SAVE ] Model (epoch=1) has been saved to trained_models/feeding_teleop_250/prediction_ensemble_mlp_i20_g5_o3/model_1.pth\n",
      "[TRAIN] Epoch: 2, Metrics: [loss: -12.953445]\n",
      "[ VAL ] Epoch: 2, Metrics: [total_loss: -13.770489, nll: 39.979578, mse: 9.342077, ensemble_mse: 8.365979, ensemble_nll: 29.494495]\n"
     ]
    }
   ],
   "source": [
    "experiment_name = \"prediction_ensemble_mlp_i20_g5_o3\"\n",
    "start_from = 0\n",
    "\n",
    "run_experiment(experiment_name, start_from)"
   ]
  },
  {
   "cell_type": "code",
   "execution_count": null,
   "id": "a667659e-6792-497d-99fc-db37a9c59159",
   "metadata": {},
   "outputs": [],
   "source": []
  }
 ],
 "metadata": {
  "kernelspec": {
   "display_name": "robodiff",
   "language": "python",
   "name": "robodiff-assisitve"
  },
  "language_info": {
   "codemirror_mode": {
    "name": "ipython",
    "version": 3
   },
   "file_extension": ".py",
   "mimetype": "text/x-python",
   "name": "python",
   "nbconvert_exporter": "python",
   "pygments_lexer": "ipython3",
   "version": "3.9.15"
  }
 },
 "nbformat": 4,
 "nbformat_minor": 5
}
